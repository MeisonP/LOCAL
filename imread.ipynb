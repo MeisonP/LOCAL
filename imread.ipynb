{
 "cells": [
  {
   "cell_type": "code",
   "execution_count": 1,
   "metadata": {},
   "outputs": [
    {
     "name": "stdout",
     "output_type": "stream",
     "text": [
      "[[[204 219 211]\n",
      "  [162 177 169]\n",
      "  [181 196 188]\n",
      "  ..., \n",
      "  [186 209 241]\n",
      "  [185 208 240]\n",
      "  [186 209 241]]\n",
      "\n",
      " [[175 190 182]\n",
      "  [121 136 128]\n",
      "  [126 141 133]\n",
      "  ..., \n",
      "  [167 190 222]\n",
      "  [167 190 222]\n",
      "  [171 194 226]]\n",
      "\n",
      " [[179 194 186]\n",
      "  [116 131 123]\n",
      "  [113 128 120]\n",
      "  ..., \n",
      "  [158 181 213]\n",
      "  [160 183 215]\n",
      "  [165 188 220]]\n",
      "\n",
      " ..., \n",
      " [[255 251 251]\n",
      "  [255 254 254]\n",
      "  [255 254 250]\n",
      "  ..., \n",
      "  [120  96 126]\n",
      "  [111  87 117]\n",
      "  [117  95 124]]\n",
      "\n",
      " [[255 252 252]\n",
      "  [255 254 254]\n",
      "  [255 254 250]\n",
      "  ..., \n",
      "  [133 112 144]\n",
      "  [128 110 141]\n",
      "  [128 110 141]]\n",
      "\n",
      " [[255 252 252]\n",
      "  [255 254 254]\n",
      "  [255 253 249]\n",
      "  ..., \n",
      "  [153 136 169]\n",
      "  [149 134 166]\n",
      "  [140 125 157]]]\n"
     ]
    }
   ],
   "source": [
    "import numpy as np\n",
    "import scipy.io as sio\n",
    "import cv2\n",
    "image=cv2.imread(\"C:/Users/Mason/desktop/styles/woman.jpg\")\n",
    "image_t=image.transpose(2,1,0)\n",
    "print (image)"
   ]
  },
  {
   "cell_type": "code",
   "execution_count": 2,
   "metadata": {},
   "outputs": [
    {
     "name": "stdout",
     "output_type": "stream",
     "text": [
      "[[[204 175 179 ..., 255 255 255]\n",
      "  [162 121 116 ..., 255 255 255]\n",
      "  [181 126 113 ..., 255 255 255]\n",
      "  ..., \n",
      "  [186 167 158 ..., 120 133 153]\n",
      "  [185 167 160 ..., 111 128 149]\n",
      "  [186 171 165 ..., 117 128 140]]\n",
      "\n",
      " [[219 190 194 ..., 251 252 252]\n",
      "  [177 136 131 ..., 254 254 254]\n",
      "  [196 141 128 ..., 254 254 253]\n",
      "  ..., \n",
      "  [209 190 181 ...,  96 112 136]\n",
      "  [208 190 183 ...,  87 110 134]\n",
      "  [209 194 188 ...,  95 110 125]]\n",
      "\n",
      " [[211 182 186 ..., 251 252 252]\n",
      "  [169 128 123 ..., 254 254 254]\n",
      "  [188 133 120 ..., 250 250 249]\n",
      "  ..., \n",
      "  [241 222 213 ..., 126 144 169]\n",
      "  [240 222 215 ..., 117 141 166]\n",
      "  [241 226 220 ..., 124 141 157]]]\n"
     ]
    }
   ],
   "source": [
    "import numpy as np\n",
    "import scipy.io as sio\n",
    "import cv2\n",
    "image=cv2.imread(\"C:/Users/Mason/desktop/styles/woman.jpg\")\n",
    "image_t=image.transpose(2,1,0)\n",
    "print(image_t)"
   ]
  },
  {
   "cell_type": "code",
   "execution_count": null,
   "metadata": {},
   "outputs": [],
   "source": []
  }
 ],
 "metadata": {
  "kernelspec": {
   "display_name": "Python 3",
   "language": "python",
   "name": "python3"
  },
  "language_info": {
   "codemirror_mode": {
    "name": "ipython",
    "version": 3
   },
   "file_extension": ".py",
   "mimetype": "text/x-python",
   "name": "python",
   "nbconvert_exporter": "python",
   "pygments_lexer": "ipython3",
   "version": "3.5.4"
  }
 },
 "nbformat": 4,
 "nbformat_minor": 2
}
